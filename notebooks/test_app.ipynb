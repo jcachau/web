{
 "cells": [
  {
   "cell_type": "code",
   "execution_count": 6,
   "metadata": {
    "executionInfo": {
     "elapsed": 444,
     "status": "ok",
     "timestamp": 1692979013861,
     "user": {
      "displayName": "Jerome Cachau",
      "userId": "00233474388787276799"
     },
     "user_tz": -120
    },
    "id": "mPSmsKkpBc32"
   },
   "outputs": [],
   "source": [
    "# Python libraries required by the Notebook\n",
    "\n",
    "import numpy as np\n",
    "np.seterr(divide='ignore',invalid='ignore')\n",
    "import plotly.express as px\n",
    "import plotly.graph_objects as go\n",
    "import plotly.figure_factory as ff\n",
    "from plotly.subplots import make_subplots\n",
    "import numpy.random as rnd\n",
    "# import random\n",
    "import pandas as pd\n",
    "import datetime as dt\n",
    "# import time\n",
    "#import warnings\n",
    "import scipy.optimize as opt\n",
    "#from IPython.display import clear_output\n",
    "import ipywidgets as pw\n",
    "\n",
    "#warnings.simplefilter(action='ignore', category=pd.errors.PerformanceWarning)\n",
    "#pd.options.display.max_rows = 50\n",
    "\n",
    "base_layout = go.Layout(template=\"seaborn\",width=1000, height=600,xaxis=dict(range=[0,None]),yaxis=dict(range=[0,None]))"
   ]
  },
  {
   "cell_type": "code",
   "execution_count": 7,
   "metadata": {
    "executionInfo": {
     "elapsed": 10,
     "status": "ok",
     "timestamp": 1692979013862,
     "user": {
      "displayName": "Jerome Cachau",
      "userId": "00233474388787276799"
     },
     "user_tz": -120
    },
    "id": "FGnvO8CHBjO9"
   },
   "outputs": [],
   "source": [
    "def f(x,y):\n",
    "  fig.add_traces(go.Scatter(x=[x],y=[y],mode=\"markers\"))\n",
    "  fig.update_layout(xaxis=dict(range=[0,None]),yaxis=dict(range=[0,None]))\n",
    "  display(fig)\n",
    "  print(x*y)\n",
    "  return go.FigureWidget(fig)"
   ]
  },
  {
   "cell_type": "markdown",
   "metadata": {
    "id": "YyFdEgeiEfry"
   },
   "source": [
    "# This app is meant to test user interaction on notebooks\n",
    "__________\n",
    "\n",
    "$ e^{i \\pi} + 1 = 0 $"
   ]
  },
  {
   "cell_type": "code",
   "execution_count": 8,
   "metadata": {
    "colab": {
     "base_uri": "https://localhost:8080/",
     "height": 49,
     "referenced_widgets": [
      "1c91ae502afb4d15b3a7a4f58318f5e0",
      "a0466e3cb95745ce98d4a102d783ea5a",
      "9741b3b994394131a37b61e94dfa2fdb"
     ]
    },
    "executionInfo": {
     "elapsed": 10,
     "status": "ok",
     "timestamp": 1692979013863,
     "user": {
      "displayName": "Jerome Cachau",
      "userId": "00233474388787276799"
     },
     "user_tz": -120
    },
    "id": "Bss0A1a4EwbN",
    "outputId": "c5868ba9-1682-4ca2-cdc2-c6ce41136197"
   },
   "outputs": [
    {
     "data": {
      "application/vnd.jupyter.widget-view+json": {
       "model_id": "98f26f025c064912b25335c094c1b6db",
       "version_major": 2,
       "version_minor": 0
      },
      "text/plain": [
       "FloatRangeSlider(value=(-10.0, 10.0), description='Range x:', max=10.0, min=-10.0, readout_format='.1f')"
      ]
     },
     "metadata": {},
     "output_type": "display_data"
    }
   ],
   "source": [
    "w1 = pw.FloatRangeSlider(value=[-10, 10], min=-10, max=10,step=0.1,description='Range x:', disabled=False, continuous_update=True, orientation='horizontal', readout=True, readout_format='.1f')\n",
    "w1"
   ]
  },
  {
   "cell_type": "code",
   "execution_count": 9,
   "metadata": {
    "executionInfo": {
     "elapsed": 9,
     "status": "ok",
     "timestamp": 1692979013864,
     "user": {
      "displayName": "Jerome Cachau",
      "userId": "00233474388787276799"
     },
     "user_tz": -120
    },
    "id": "lXKgl-jFGd9p"
   },
   "outputs": [],
   "source": [
    "def show_value(wid):\n",
    "  print(wid)"
   ]
  },
  {
   "cell_type": "code",
   "execution_count": 10,
   "metadata": {
    "colab": {
     "base_uri": "https://localhost:8080/",
     "height": 34,
     "referenced_widgets": [
      "af80a7462fde4d2b883cf589ef3fdc3f",
      "19aa1a5da14748749ca8ba587197d0cc"
     ]
    },
    "executionInfo": {
     "elapsed": 335,
     "status": "ok",
     "timestamp": 1692979014191,
     "user": {
      "displayName": "Jerome Cachau",
      "userId": "00233474388787276799"
     },
     "user_tz": -120
    },
    "id": "-L2UdNFVGj99",
    "outputId": "23d62f94-9a42-4ae4-ea26-f1d11d71f30e"
   },
   "outputs": [
    {
     "data": {
      "application/vnd.jupyter.widget-view+json": {
       "model_id": "9a3fcdb1c5d14a85b0f090f69bf0686b",
       "version_major": 2,
       "version_minor": 0
      },
      "text/plain": [
       "Output()"
      ]
     },
     "metadata": {},
     "output_type": "display_data"
    }
   ],
   "source": [
    "w_out1 = pw.interactive_output(show_value,dict(wid=w1))\n",
    "display(w_out1)"
   ]
  },
  {
   "cell_type": "code",
   "execution_count": null,
   "metadata": {
    "id": "aXsUqCMtaejm"
   },
   "outputs": [],
   "source": []
  }
 ],
 "metadata": {
  "colab": {
   "authorship_tag": "ABX9TyMa+ciyWMCHfQE+t8Lpw5+q",
   "provenance": []
  },
  "kernelspec": {
   "display_name": "Python 3 (ipykernel)",
   "language": "python",
   "name": "python3"
  },
  "language_info": {
   "codemirror_mode": {
    "name": "ipython",
    "version": 3
   },
   "file_extension": ".py",
   "mimetype": "text/x-python",
   "name": "python",
   "nbconvert_exporter": "python",
   "pygments_lexer": "ipython3",
   "version": "3.7.10"
  },
  "widgets": {
   "application/vnd.jupyter.widget-state+json": {
    "19aa1a5da14748749ca8ba587197d0cc": {
     "model_module": "@jupyter-widgets/base",
     "model_module_version": "1.2.0",
     "model_name": "LayoutModel",
     "state": {
      "_model_module": "@jupyter-widgets/base",
      "_model_module_version": "1.2.0",
      "_model_name": "LayoutModel",
      "_view_count": null,
      "_view_module": "@jupyter-widgets/base",
      "_view_module_version": "1.2.0",
      "_view_name": "LayoutView",
      "align_content": null,
      "align_items": null,
      "align_self": null,
      "border": null,
      "bottom": null,
      "display": null,
      "flex": null,
      "flex_flow": null,
      "grid_area": null,
      "grid_auto_columns": null,
      "grid_auto_flow": null,
      "grid_auto_rows": null,
      "grid_column": null,
      "grid_gap": null,
      "grid_row": null,
      "grid_template_areas": null,
      "grid_template_columns": null,
      "grid_template_rows": null,
      "height": null,
      "justify_content": null,
      "justify_items": null,
      "left": null,
      "margin": null,
      "max_height": null,
      "max_width": null,
      "min_height": null,
      "min_width": null,
      "object_fit": null,
      "object_position": null,
      "order": null,
      "overflow": null,
      "overflow_x": null,
      "overflow_y": null,
      "padding": null,
      "right": null,
      "top": null,
      "visibility": null,
      "width": null
     }
    },
    "1c91ae502afb4d15b3a7a4f58318f5e0": {
     "model_module": "@jupyter-widgets/controls",
     "model_module_version": "1.5.0",
     "model_name": "FloatRangeSliderModel",
     "state": {
      "_dom_classes": [],
      "_model_module": "@jupyter-widgets/controls",
      "_model_module_version": "1.5.0",
      "_model_name": "FloatRangeSliderModel",
      "_view_count": null,
      "_view_module": "@jupyter-widgets/controls",
      "_view_module_version": "1.5.0",
      "_view_name": "FloatRangeSliderView",
      "continuous_update": true,
      "description": "Range x:",
      "description_tooltip": null,
      "disabled": false,
      "layout": "IPY_MODEL_a0466e3cb95745ce98d4a102d783ea5a",
      "max": 10,
      "min": -10,
      "orientation": "horizontal",
      "readout": true,
      "readout_format": ".1f",
      "step": 0.1,
      "style": "IPY_MODEL_9741b3b994394131a37b61e94dfa2fdb",
      "value": [
       -10,
       10
      ]
     }
    },
    "9741b3b994394131a37b61e94dfa2fdb": {
     "model_module": "@jupyter-widgets/controls",
     "model_module_version": "1.5.0",
     "model_name": "SliderStyleModel",
     "state": {
      "_model_module": "@jupyter-widgets/controls",
      "_model_module_version": "1.5.0",
      "_model_name": "SliderStyleModel",
      "_view_count": null,
      "_view_module": "@jupyter-widgets/base",
      "_view_module_version": "1.2.0",
      "_view_name": "StyleView",
      "description_width": "",
      "handle_color": null
     }
    },
    "a0466e3cb95745ce98d4a102d783ea5a": {
     "model_module": "@jupyter-widgets/base",
     "model_module_version": "1.2.0",
     "model_name": "LayoutModel",
     "state": {
      "_model_module": "@jupyter-widgets/base",
      "_model_module_version": "1.2.0",
      "_model_name": "LayoutModel",
      "_view_count": null,
      "_view_module": "@jupyter-widgets/base",
      "_view_module_version": "1.2.0",
      "_view_name": "LayoutView",
      "align_content": null,
      "align_items": null,
      "align_self": null,
      "border": null,
      "bottom": null,
      "display": null,
      "flex": null,
      "flex_flow": null,
      "grid_area": null,
      "grid_auto_columns": null,
      "grid_auto_flow": null,
      "grid_auto_rows": null,
      "grid_column": null,
      "grid_gap": null,
      "grid_row": null,
      "grid_template_areas": null,
      "grid_template_columns": null,
      "grid_template_rows": null,
      "height": null,
      "justify_content": null,
      "justify_items": null,
      "left": null,
      "margin": null,
      "max_height": null,
      "max_width": null,
      "min_height": null,
      "min_width": null,
      "object_fit": null,
      "object_position": null,
      "order": null,
      "overflow": null,
      "overflow_x": null,
      "overflow_y": null,
      "padding": null,
      "right": null,
      "top": null,
      "visibility": null,
      "width": null
     }
    },
    "af80a7462fde4d2b883cf589ef3fdc3f": {
     "model_module": "@jupyter-widgets/output",
     "model_module_version": "1.0.0",
     "model_name": "OutputModel",
     "state": {
      "_dom_classes": [],
      "_model_module": "@jupyter-widgets/output",
      "_model_module_version": "1.0.0",
      "_model_name": "OutputModel",
      "_view_count": null,
      "_view_module": "@jupyter-widgets/output",
      "_view_module_version": "1.0.0",
      "_view_name": "OutputView",
      "layout": "IPY_MODEL_19aa1a5da14748749ca8ba587197d0cc",
      "msg_id": "",
      "outputs": [
       {
        "name": "stdout",
        "output_type": "stream",
        "text": [
         "(-10.0, 10.0)\n"
        ]
       }
      ]
     }
    }
   }
  }
 },
 "nbformat": 4,
 "nbformat_minor": 4
}
